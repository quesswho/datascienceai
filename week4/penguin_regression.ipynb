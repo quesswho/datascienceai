{
 "cells": [
  {
   "cell_type": "markdown",
   "id": "f9e2326f-c749-4319-8ede-8792101956f5",
   "metadata": {},
   "source": [
    "FJ- lecture 7"
   ]
  },
  {
   "cell_type": "markdown",
   "id": "8e8e79a4-0745-41cd-9f83-be35d8076307",
   "metadata": {},
   "source": [
    "Let's revisit the Palmer penguins dataset and apply some basic linear reagression. Our task is to evaluate the goodness of the model, we'll discuss the theory of linear regression next week. For now, it suffices to think of this as \"fitting a line among a set of points\"."
   ]
  },
  {
   "cell_type": "code",
   "execution_count": null,
   "id": "0e12b365",
   "metadata": {},
   "outputs": [],
   "source": [
    "# Import necessary libraries\n",
    "import pandas as pd\n",
    "import numpy as np\n",
    "from sklearn.model_selection import train_test_split\n",
    "from sklearn.linear_model import LinearRegression\n",
    "from sklearn.metrics import mean_squared_error\n",
    "import matplotlib.pyplot as plt"
   ]
  },
  {
   "cell_type": "code",
   "execution_count": null,
   "id": "f4c32ee3-293c-42b4-887e-4e69f0acae2e",
   "metadata": {},
   "outputs": [],
   "source": [
    "# Load and preprocess the dataset (drop rows with missing values) \n",
    "df = pd.read_csv('penguins_size.csv').dropna()\n",
    "\n",
    "# split the dataset intp training and test set\n",
    "df_train, df_test = train_test_split(df,random_state=1234)"
   ]
  },
  {
   "cell_type": "code",
   "execution_count": null,
   "id": "4c500bfd-19c1-497d-b9cd-5d8ea773320e",
   "metadata": {},
   "outputs": [],
   "source": [
    "Dataset = len(df)\n",
    "TrainingSet = len(df_train)\n",
    "TestSet= len(df_test)\n",
    "\n",
    "print(f\"Dataset (Length: {Dataset}) divided to  \\nTraining Set (Length: {TrainingSet}) and Test Set (Length: {TestSet}) \")"
   ]
  },
  {
   "cell_type": "markdown",
   "id": "637d51ec-7236-49e8-9d60-e55f7d4e8c99",
   "metadata": {},
   "source": [
    "* df_train: The training set (default 75% of the data).\n",
    "* df_test: The test set (default 25% of the data).\n",
    "* The random_state=1234 ensures reproducibility so the same split occurs each time you run the code."
   ]
  },
  {
   "cell_type": "code",
   "execution_count": null,
   "id": "f9e3d404",
   "metadata": {},
   "outputs": [],
   "source": [
    "# Initialize the Linear Regression model\n",
    "lr = LinearRegression()\n",
    "\n",
    "# Define the independent and dependent variables\n",
    "independent_variables = ['culmen_length_mm','culmen_depth_mm','flipper_length_mm'] # x1,x2,x3\n",
    "dependent_variable = 'body_mass_g'                                                 # y\n",
    "\n",
    "# Prepare the training set\n",
    "X_train = df_train[independent_variables]  # Features (independent variables) for training\n",
    "y_train = df_train[dependent_variable]     # Target variable (dependent) for training\n",
    "\n",
    "# Prepare the test set\n",
    "X_test = df_test[independent_variables]    # Features for testing\n",
    "y_test = df_test[dependent_variable]       # Target for testing\n",
    "\n",
    "# Fit the model to the training data\n",
    "lr.fit(X_train,y_train)  #trains the linear regression model on the provided data"
   ]
  },
  {
   "cell_type": "code",
   "execution_count": null,
   "id": "9adcf4ad",
   "metadata": {},
   "outputs": [],
   "source": [
    "# Make predictions on the test set\n",
    "y_predicted = lr.predict(X_test)\n",
    "\n",
    "# y_predicted : values predicted by your regression model _ corresponding to each row in X_test.\n",
    "# y_test      : the actual observed values from the test set"
   ]
  },
  {
   "cell_type": "code",
   "execution_count": null,
   "id": "dfece2a1-2017-4f6c-add7-14f3a512fb98",
   "metadata": {},
   "outputs": [],
   "source": [
    "X_train"
   ]
  },
  {
   "cell_type": "markdown",
   "id": "8ec86051-deb7-444b-a045-4fb3bfa35d84",
   "metadata": {},
   "source": [
    "The model aims to predict the body mass of a penguin by using a linear combination of the other numerical features (culmen length/depth and flipper length).\n",
    "\n",
    "Let's start by plotting the absolute and relative error. Note that we are using a signed version of the error: we should expect the error to be strongly concentrated around 0 if the model makes sense and somewhat symmetrically around the mean."
   ]
  },
  {
   "cell_type": "code",
   "execution_count": null,
   "id": "ccdb88c3",
   "metadata": {},
   "outputs": [],
   "source": [
    "fig, axs = plt.subplots(2) \n",
    "# Plot absolute error (difference between predicted and actual values)\n",
    "axs[0].hist(y_predicted - y_test ,bins=10) #residuals\n",
    "axs[0].set_xlabel('Absolute error')\n",
    "axs[0].set_ylabel('Count')\n",
    "\n",
    "# Plot relative error (difference normalized by actual value)\n",
    "# Add a small value to y_test to avoid division by zero\n",
    "axs[1].hist((y_predicted - y_test) / y_test ,bins=10)\n",
    "axs[1].set_xlabel('Relative error')\n",
    "axs[1].set_ylabel('Count')\n",
    "\n",
    "fig.suptitle('Absolute and relative error for Palmer penguins')\n",
    "fig.tight_layout()\n",
    "plt.show()"
   ]
  },
  {
   "cell_type": "markdown",
   "id": "47f62cd6-9ca1-42e4-8965-a5be23f421df",
   "metadata": {},
   "source": [
    "This looks like a kind of bell curve. It's difficult to determine if the error is truly skewed because the number of samples is kind of small. Let's compute some statistics, such as Mean Squared Error (MSE) and Root Mean Squared (RMS)."
   ]
  },
  {
   "cell_type": "code",
   "execution_count": null,
   "id": "5d20bd65",
   "metadata": {},
   "outputs": [],
   "source": [
    "# Calculate Mean Squared Error (MSE)\n",
    "mse = mean_squared_error(y_test, y_predicted)\n",
    "print(f\"MSE: {mse:.4f}\")"
   ]
  },
  {
   "cell_type": "code",
   "execution_count": null,
   "id": "9010a921",
   "metadata": {},
   "outputs": [],
   "source": [
    "# Calculate Root Mean Square Error (RMSE)\n",
    "rms = np.sqrt(mse)\n",
    "print(f\"RMSE: {rms:.4f}\")"
   ]
  },
  {
   "cell_type": "markdown",
   "id": "ea84ce19-a492-4f17-a759-d7086bfe6e8b",
   "metadata": {},
   "source": [
    "So this gives us the interpretation that the typical prediction is off by about 384 grams, or this is the order of magnitude of the error (let's say around 400 grams to be the typical precision).\n",
    "\n",
    "Let's see if we can do better by focusing on a smaller subset; we now have three different species of penguins and two genders, both of which factor heavily into, well, how heavy the penguins are."
   ]
  },
  {
   "cell_type": "code",
   "execution_count": null,
   "id": "09b18dad",
   "metadata": {},
   "outputs": [],
   "source": [
    "# Filter the DataFrame for Adelie male penguins\n",
    "df_adelie_male = df.query('species == \"Adelie\" and sex == \"MALE\"')\n",
    "\n",
    "# Split the dataset into training and test sets for Adelie males\n",
    "df_adelie_male_train, df_adelie_male_test = train_test_split(df_adelie_male)\n",
    "\n",
    "# Extract independent variables (features) from the training set\n",
    "X_adelie_male_train = df_adelie_male_train[independent_variables]\n",
    "\n",
    "# Extract the dependent variable (target) from the training set\n",
    "y_adelie_male_train = df_adelie_male_train[dependent_variable]\n",
    "\n",
    "# Extract independent variables (features) from the test set\n",
    "X_adelie_male_test = df_adelie_male_test[independent_variables]\n",
    "\n",
    "# Extract the dependent variable (target) from the test set\n",
    "y_adelie_male_test = df_adelie_male_test[dependent_variable]\n",
    "\n",
    "# Create a Linear Regression model for Adelie males\n",
    "lr_adelie_male = LinearRegression()\n",
    "\n",
    "# Fit the model using the training data\n",
    "lr_adelie_male.fit(X_adelie_male_train,y_adelie_male_train)\n",
    "\n",
    "# Predict the dependent variable values using the test data\n",
    "y_adelie_male_pred = lr_adelie_male.predict(X_adelie_male_test)\n",
    "\n",
    "fig.savefig('palmer_penguins_error.pdf')"
   ]
  },
  {
   "cell_type": "code",
   "execution_count": null,
   "id": "2c7d8603",
   "metadata": {},
   "outputs": [],
   "source": [
    "fig, axs = plt.subplots(2) \n",
    "\n",
    "# Plot the histogram of absolute errors on the first subplot\n",
    "axs[0].hist(y_adelie_male_pred-y_adelie_male_test,bins=5)\n",
    "\n",
    "# Plot the histogram of relative errors on the second subplot\n",
    "axs[1].hist((y_adelie_male_pred-y_adelie_male_test)/y_adelie_male_test,bins=5)\n",
    "\n",
    "axs[0].set_xlabel('Absolute error')\n",
    "axs[0].set_ylabel('Count')\n",
    "axs[1].set_xlabel('Relative error')\n",
    "axs[1].set_ylabel('Count')\n",
    "fig.suptitle('Absolute and relative error for male Adélie penguins')\n",
    "fig.tight_layout()"
   ]
  },
  {
   "cell_type": "code",
   "execution_count": null,
   "id": "2ecde669",
   "metadata": {},
   "outputs": [],
   "source": [
    "mse_adelie_male = np.mean((y_adelie_male_pred-y_adelie_male_test)**2)\n",
    "print(f\"MSE: {mse_adelie_male:.4f}\")"
   ]
  },
  {
   "cell_type": "code",
   "execution_count": null,
   "id": "6bb8e92c",
   "metadata": {},
   "outputs": [],
   "source": [
    "rms_adelie_male = np.sqrt(mse_adelie_male)\n",
    "print(f\"RMSE: {rms_adelie_male:.4f}\")"
   ]
  },
  {
   "cell_type": "code",
   "execution_count": null,
   "id": "13fc8cb0",
   "metadata": {},
   "outputs": [],
   "source": [
    "df.groupby('species')['body_mass_g'].mean()"
   ]
  },
  {
   "cell_type": "code",
   "execution_count": null,
   "id": "27f7506e-9a89-4dbc-bdd6-e154f1ae6697",
   "metadata": {},
   "outputs": [],
   "source": [
    "df.query('species == \"Gentoo\"').groupby('sex')['body_mass_g'].mean()"
   ]
  },
  {
   "cell_type": "markdown",
   "id": "026cbebb-3369-48d4-9783-393da6383504",
   "metadata": {},
   "source": [
    "### Now it is time for you to play with data :)"
   ]
  }
 ],
 "metadata": {
  "kernelspec": {
   "display_name": "Python 3 (ipykernel)",
   "language": "python",
   "name": "python3"
  },
  "language_info": {
   "codemirror_mode": {
    "name": "ipython",
    "version": 3
   },
   "file_extension": ".py",
   "mimetype": "text/x-python",
   "name": "python",
   "nbconvert_exporter": "python",
   "pygments_lexer": "ipython3",
   "version": "3.9.6"
  }
 },
 "nbformat": 4,
 "nbformat_minor": 5
}
